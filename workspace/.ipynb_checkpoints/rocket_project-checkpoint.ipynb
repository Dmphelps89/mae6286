{
 "cells": [
  {
   "cell_type": "code",
   "execution_count": 1,
   "metadata": {
    "collapsed": false
   },
   "outputs": [
    {
     "name": "stderr",
     "output_type": "stream",
     "text": [
      "/Applications/anaconda/lib/python3.5/site-packages/matplotlib/font_manager.py:273: UserWarning: Matplotlib is building the font cache using fc-list. This may take a moment.\n",
      "  warnings.warn('Matplotlib is building the font cache using fc-list. This may take a moment.')\n",
      "/Applications/anaconda/lib/python3.5/site-packages/matplotlib/font_manager.py:273: UserWarning: Matplotlib is building the font cache using fc-list. This may take a moment.\n",
      "  warnings.warn('Matplotlib is building the font cache using fc-list. This may take a moment.')\n"
     ]
    }
   ],
   "source": [
    "### Load needed modules\n",
    "import numpy\n",
    "from matplotlib import pyplot\n",
    "%matplotlib inline\n",
    "from matplotlib import rcParams\n",
    "rcParams['font.family'] = 'serif'\n",
    "rcParams['font.size'] = 16"
   ]
  },
  {
   "cell_type": "code",
   "execution_count": 3,
   "metadata": {
    "collapsed": false
   },
   "outputs": [],
   "source": [
    "# parameters \n",
    "\n",
    "g = 9.8 # gravity m/s**2\n",
    "m_s = 50 # kg mass of rocket shell\n",
    "ro_air = 1.091  # kg/m**3 denisty of air ***constant at all throughout flight\n",
    "A = 3.14*.5**2 # m**2 cross sectional area of rocket\n",
    "v_e = 325 # m/s exhaust speed\n",
    "C_D = 0.15 # drag coeffiecnt \n",
    "m_p0 = 100 #kg mass of propellent at t = 0  \n",
    "mass_flow_p = 20 #kg/s \n",
    "dt = .1 #s time step for euler's method\n",
    "T = 100.0 \n",
    "N = int(T/dt)+1\n",
    "t = numpy.linspace(0.0,T,N) # time linearization"
   ]
  },
  {
   "cell_type": "code",
   "execution_count": 19,
   "metadata": {
    "collapsed": false
   },
   "outputs": [],
   "source": [
    "#Intial conditions \n",
    "\n",
    "v0 = 0 # intial velocity \n",
    "t0 = 0 # intial time\n",
    "z0 = 0 # intial altitude \n",
    "u = numpy.array([z0,v0])\n",
    "z = numpy.zeros(N)\n",
    "z[0] = z0"
   ]
  },
  {
   "cell_type": "code",
   "execution_count": 30,
   "metadata": {
    "collapsed": false
   },
   "outputs": [],
   "source": [
    "# define functions for mass propellent and mass flow rate of propellent\n",
    "\n",
    "def m_p(t):\n",
    "\n",
    "    \"\"\"\n",
    "    Parameters\n",
    "    -------------\n",
    "\n",
    "    t : float\n",
    "        given time\n",
    "\n",
    "    Returns\n",
    "    -------------\n",
    "\n",
    "    mp : float \n",
    "        total mass of mass propelent at time t \n",
    "\n",
    "    \"\"\"\n",
    "\n",
    "    if t<=5:\n",
    "        m_p = 100-20*t\n",
    "    else: \n",
    "        m_p = 0 \n",
    "    \n",
    "    return m_p \n",
    "\n",
    "\n",
    "def mfr(t):\n",
    "\n",
    "    \"\"\"\n",
    "    \n",
    "    Parameters\n",
    "    ----------\n",
    "    \n",
    "    t  : float\n",
    "        given time \n",
    "    \n",
    "    Returns\n",
    "    ----------\n",
    "    \n",
    "    mfr : float\n",
    "        mass flow rate at time t\n",
    "    \"\"\"\n",
    "    \n",
    "    if t<= 5:\n",
    "        mfr = 20\n",
    "    else: \n",
    "        mfr = 0\n",
    "    return     mfr \n"
   ]
  },
  {
   "cell_type": "code",
   "execution_count": 36,
   "metadata": {
    "collapsed": false
   },
   "outputs": [],
   "source": [
    "#### Euler Method \n",
    "tt = 0\n",
    "for n in range(1,N):\n",
    "    u = u + dt*numpy.array([u[1],-g + (mfr(tt)*v_e - .5*ro_air*u[1]*numpy.abs(u[1])*A*C_D)/(m_s+m_p(tt)) ])\n",
    "    z[n] = u[0]\n",
    "    tt = tt+dt\n",
    "    if z[n] < 0: \n",
    "        break "
   ]
  },
  {
   "cell_type": "code",
   "execution_count": 37,
   "metadata": {
    "collapsed": false
   },
   "outputs": [
    {
     "data": {
      "image/png": "[encoded data removed]",
      "text/plain": [
       "<matplotlib.figure.Figure at 0x1094c13c8>"
      ]
     },
     "metadata": {},
     "output_type": "display_data"
    }
   ],
   "source": [
    "pyplot.figure(figsize=(10,6))\n",
    "pyplot.plot(t,z, 'k-');"
   ]
  },
  {
   "cell_type": "code",
   "execution_count": 34,
   "metadata": {
    "collapsed": false
   },
   "outputs": [
    {
     "data": {
      "text/plain": [
       "1187.7129600155165"
      ]
     },
     "execution_count": 34,
     "metadata": {},
     "output_type": "execute_result"
    }
   ],
   "source": [
    "z[100]"
   ]
  },
  {
   "cell_type": "code",
   "execution_count": 35,
   "metadata": {
    "collapsed": false
   },
   "outputs": [
    {
     "data": {
      "text/plain": [
       "-5435.7568837649806"
      ]
     },
     "execution_count": 35,
     "metadata": {},
     "output_type": "execute_result"
    }
   ],
   "source": [
    "z[1000]"
   ]
  },
  {
   "cell_type": "code",
   "execution_count": null,
   "metadata": {
    "collapsed": true
   },
   "outputs": [],
   "source": []
  }
 ],
 "metadata": {
  "anaconda-cloud": {},
  "kernelspec": {
   "display_name": "Python [Root]",
   "language": "python",
   "name": "Python [Root]"
  },
  "language_info": {
   "codemirror_mode": {
    "name": "ipython",
    "version": 3
   },
   "file_extension": ".py",
   "mimetype": "text/x-python",
   "name": "python",
   "nbconvert_exporter": "python",
   "pygments_lexer": "ipython3",
   "version": "3.5.2"
  }
 },
 "nbformat": 4,
 "nbformat_minor": 1
}
