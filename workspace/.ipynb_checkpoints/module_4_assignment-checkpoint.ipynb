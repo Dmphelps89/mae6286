{
 "cells": [
  {
   "cell_type": "markdown",
   "metadata": {},
   "source": [
    "Parameters "
   ]
  },
  {
   "cell_type": "code",
   "execution_count": 1,
   "metadata": {
    "collapsed": true
   },
   "outputs": [],
   "source": [
    "n = 192\n",
    "Du, Dv, F, k = 0.00016, 0.00008, 0.035, 0.065 # Bacteria 1 \n",
    "dh = 5./(n-1)\n",
    "T = 8000\n",
    "dt = .9 * dh**2 / (4*max(Du,Dv))\n",
    "nt = int(T/dt)"
   ]
  },
  {
   "cell_type": "markdown",
   "metadata": {},
   "source": [
    "import random array\n"
   ]
  },
  {
   "cell_type": "code",
   "execution_count": 40,
   "metadata": {
    "collapsed": false
   },
   "outputs": [],
   "source": [
    "import numpy\n",
    "uvinitial = numpy.load('./uvinitial.npz')\n",
    "U = uvinitial['U']\n",
    "V = uvinitial['V']"
   ]
  },
  {
   "cell_type": "markdown",
   "metadata": {},
   "source": [
    "Numerical Solution"
   ]
  },
  {
   "cell_type": "code",
   "execution_count": null,
   "metadata": {
    "collapsed": true
   },
   "outputs": [],
   "source": [
    "def ftcs(U,V,Du,Dv,k,dh,dt,nt):\n",
    "\n",
    "    for i in range(nt):\n",
    "\n",
    "        Un = U.copy()\n",
    "        Vn = V.copy()\n",
    "\n",
    "        #discritized eq Un.\n",
    "        U[1:-1,1:-1] = Un[1:-1,1:-1]\\\n",
    "        + Du*dt*((Un[2:,1:-1] - 2*Un[1:-1,1:-1] + Un[:-2,1:-1])/dh**2\\\n",
    "        + (Un[1:-1,2:] - 2*Un[1:-1,1:-1] + Un[1:-1,:-2])/dh**2)\\\n",
    "        - Un[1:-1,1:-1]*Vn[1:-1,1:-1]**2 \\\n",
    "        + F*(1- Un[1:-1,1:-1])\n",
    "\n",
    "        #discritized eq Vn.\n",
    "        V[1:-1,1:-1] = Vn[1:-1,1:-1]\\\n",
    "        + Dv*dt*((Vn[2:,1:-1] - 2*Vn[1:-1,1:-1] + Vn[:-2,1:-1])/dh**2\\\n",
    "        + (Vn[1:-1,2:] - 2*Vn[1:-1,1:-1] + Vn[1:-1,:-2])/dh**2)\\\n",
    "        - Un[1:-1,1:-1]*Vn[1:-1,1:-1]**2 \\\n",
    "        - (F + k)*Vn[1:-1,1:-1]\n",
    "    \n",
    "    return U"
   ]
  },
  {
   "cell_type": "markdown",
   "metadata": {},
   "source": [
    "Apply Numerical Solution to U , V"
   ]
  },
  {
   "cell_type": "code",
   "execution_count": 38,
   "metadata": {
    "collapsed": false
   },
   "outputs": [],
   "source": [
    "A = ftcs(U,V,Du,Dv,k,dh,dt,nt)"
   ]
  },
  {
   "cell_type": "markdown",
   "metadata": {},
   "source": [
    "Print out answer "
   ]
  },
  {
   "cell_type": "code",
   "execution_count": 39,
   "metadata": {
    "collapsed": false
   },
   "outputs": [
    {
     "data": {
      "text/plain": [
       "array([ 1.0425956 ,  1.        ,  1.        ,  1.        ,  1.00000009])"
      ]
     },
     "execution_count": 39,
     "metadata": {},
     "output_type": "execute_result"
    }
   ],
   "source": [
    "A[100,::40]"
   ]
  }
 ],
 "metadata": {
  "anaconda-cloud": {},
  "kernelspec": {
   "display_name": "Python [conda root]",
   "language": "python",
   "name": "conda-root-py"
  },
  "language_info": {
   "codemirror_mode": {
    "name": "ipython",
    "version": 3
   },
   "file_extension": ".py",
   "mimetype": "text/x-python",
   "name": "python",
   "nbconvert_exporter": "python",
   "pygments_lexer": "ipython3",
   "version": "3.5.2"
  }
 },
 "nbformat": 4,
 "nbformat_minor": 1
}
