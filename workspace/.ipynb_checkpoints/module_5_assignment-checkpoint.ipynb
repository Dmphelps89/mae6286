{
 "cells": [
  {
   "cell_type": "code",
   "execution_count": 62,
   "metadata": {
    "collapsed": true
   },
   "outputs": [],
   "source": [
    "from matplotlib import pyplot\n",
    "import numpy\n",
    "%matplotlib inline\n",
    "from matplotlib import rcParams\n",
    "rcParams['font.family'] = 'serif'\n",
    "rcParams['font.size'] = 16\n",
    "from matplotlib import cm"
   ]
  },
  {
   "cell_type": "markdown",
   "metadata": {},
   "source": [
    "Defining parameters of the problem "
   ]
  },
  {
   "cell_type": "code",
   "execution_count": 63,
   "metadata": {
    "collapsed": true
   },
   "outputs": [],
   "source": [
    "nx = 41\n",
    "ny = 41\n",
    "\n",
    "l = 1.\n",
    "h = 1.\n",
    "\n",
    "dx = l/(nx-1)\n",
    "dy = h/(ny-1)\n",
    "\n",
    "l1_target = 1e-6"
   ]
  },
  {
   "cell_type": "markdown",
   "metadata": {},
   "source": [
    "L1norm from problem statement"
   ]
  },
  {
   "cell_type": "code",
   "execution_count": 64,
   "metadata": {
    "collapsed": true
   },
   "outputs": [],
   "source": [
    "def L1norm(new, old):\n",
    "    norm = numpy.sum(numpy.abs(new-old))\n",
    "    return norm"
   ]
  },
  {
   "cell_type": "markdown",
   "metadata": {},
   "source": [
    "Initialize psi and w array. Defining linspace for graphs later"
   ]
  },
  {
   "cell_type": "code",
   "execution_count": 65,
   "metadata": {
    "collapsed": true
   },
   "outputs": [],
   "source": [
    "psi = numpy.zeros((ny,nx))\n",
    "w = numpy.zeros((ny,nx))\n",
    "\n",
    "X = numpy.linspace(0,l,nx)\n",
    "Y = numpy.linspace(0,h,ny)"
   ]
  },
  {
   "cell_type": "markdown",
   "metadata": {},
   "source": [
    "creating solver that requires two critera to be met"
   ]
  },
  {
   "cell_type": "code",
   "execution_count": 66,
   "metadata": {
    "collapsed": false
   },
   "outputs": [],
   "source": [
    "def solver(w, psi, l1_target):\n",
    "    \n",
    "    \n",
    "    u = 1  #speed at the top\n",
    "    psinorm = 10 #starter norm value\n",
    "    wnorm = 10 #starter norm value\n",
    "    \n",
    "    #intializing array for working w,psi\n",
    "    wn = numpy.empty_like(w)\n",
    "    psin = numpy.empty_like(psi)\n",
    "    iteration = 0 \n",
    "    #while loop running till both psi and w are within l1_target\n",
    "    while psinorm > l1_target or wnorm > l1_target:\n",
    "        \n",
    "        #solving w\n",
    "        wn = w.copy()\n",
    "        w[1:-1,1:-1] = .25 * (wn[1:-1,2:] + wn[1:-1, :-2] \\\n",
    "                              + wn[2:, 1:-1] + wn[:-2, 1:-1])\n",
    "\n",
    "        \n",
    "        ##Neumann B.C. for w\n",
    "        #top\n",
    "        w[-1,1:-1] = -1./(2*dy**2) * (8*psi[-2,1:-1]-psi[-3,1:-1])-3*u/dy\n",
    "        #right\n",
    "        w[1:-1,-1] = -1./(2*dx**2) * (8*psi[1:-1,-2]-psi[1:-1,-3]-5*psi[1,1:-1])\n",
    "        #bottom\n",
    "        w[1,1:-1] = -1./(2*dy**2) * (8*psi[2,1:-1]+psi[3,1:-1]-5*psi[1,1:-1])\n",
    "        #left\n",
    "        w[1:-1,1] = -1./(2*dx**2) * (8*psi[1:-1,2]+psi[1:-1,3]-5*psi[1,1:-1])\n",
    "        \n",
    "        #solving psi\n",
    "        psin = psi.copy()\n",
    "        psi[1:-1,1:-1] = .25  * (psin[1:-1,2:] + psin[1:-1, :-2] \\\n",
    "                              + psin[2:, 1:-1] + psin[:-2, 1:-1] \\\n",
    "                              + w[1:-1,1:-1])\n",
    "        \n",
    "        # psi was intialized to zero => auto enforces boundry conditions\n",
    "        \n",
    "        #checking l1norm for both w,psi\n",
    "        wnorm = L1norm(w, wn)\n",
    "        psinorm = L1norm(psi, psin)\n",
    "        \n",
    "        iteration =  iteration + 1\n",
    "    return w , psi , iteration"
   ]
  },
  {
   "cell_type": "markdown",
   "metadata": {},
   "source": [
    "Find solutions for w and psi"
   ]
  },
  {
   "cell_type": "code",
   "execution_count": 67,
   "metadata": {
    "collapsed": false
   },
   "outputs": [
    {
     "name": "stderr",
     "output_type": "stream",
     "text": [
      "/home/gil/anaconda3/lib/python3.5/site-packages/ipykernel/__main__.py:24: RuntimeWarning: overflow encountered in multiply\n",
      "/home/gil/anaconda3/lib/python3.5/site-packages/ipykernel/__main__.py:26: RuntimeWarning: overflow encountered in multiply\n",
      "/home/gil/anaconda3/lib/python3.5/site-packages/ipykernel/__main__.py:28: RuntimeWarning: overflow encountered in multiply\n",
      "/home/gil/anaconda3/lib/python3.5/site-packages/ipykernel/__main__.py:22: RuntimeWarning: overflow encountered in multiply\n",
      "/home/gil/anaconda3/lib/python3.5/site-packages/ipykernel/__main__.py:2: RuntimeWarning: invalid value encountered in subtract\n",
      "  from ipykernel import kernelapp as app\n"
     ]
    }
   ],
   "source": [
    "w, psi , iteration = solver(w, psi, l1_target)"
   ]
  },
  {
   "cell_type": "markdown",
   "metadata": {},
   "source": [
    "ploting psi "
   ]
  },
  {
   "cell_type": "code",
   "execution_count": 68,
   "metadata": {
    "collapsed": false
   },
   "outputs": [
    {
     "data": {
      "image/png": "[encoded data removed]",
      "text/plain": [
       "<matplotlib.figure.Figure at 0x7f3a52a0be10>"
      ]
     },
     "metadata": {},
     "output_type": "display_data"
    }
   ],
   "source": [
    "pyplot.figure(figsize=(8,6))\n",
    "# 12 is the total number of levels we used to plot the contour\n",
    "pyplot.contourf(X, Y, psi, 12, cmap=cm.viridis)\n",
    "pyplot.xlabel('$x$')\n",
    "pyplot.ylabel('$y$')\n",
    "pyplot.colorbar();"
   ]
  },
  {
   "cell_type": "code",
   "execution_count": 69,
   "metadata": {
    "collapsed": false
   },
   "outputs": [
    {
     "data": {
      "text/plain": [
       "148"
      ]
     },
     "execution_count": 69,
     "metadata": {},
     "output_type": "execute_result"
    }
   ],
   "source": [
    "iteration"
   ]
  },
  {
   "cell_type": "code",
   "execution_count": null,
   "metadata": {
    "collapsed": true
   },
   "outputs": [],
   "source": []
  }
 ],
 "metadata": {
  "anaconda-cloud": {},
  "kernelspec": {
   "display_name": "Python [conda root]",
   "language": "python",
   "name": "conda-root-py"
  },
  "language_info": {
   "codemirror_mode": {
    "name": "ipython",
    "version": 3
   },
   "file_extension": ".py",
   "mimetype": "text/x-python",
   "name": "python",
   "nbconvert_exporter": "python",
   "pygments_lexer": "ipython3",
   "version": "3.5.2"
  }
 },
 "nbformat": 4,
 "nbformat_minor": 1
}
