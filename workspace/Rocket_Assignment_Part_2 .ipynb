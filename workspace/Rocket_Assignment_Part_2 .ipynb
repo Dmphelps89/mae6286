{
 "cells": [
  {
   "cell_type": "code",
   "execution_count": 1,
   "metadata": {
    "collapsed": true
   },
   "outputs": [],
   "source": [
    "### Load needed modules\n",
    "import numpy\n",
    "from matplotlib import pyplot\n",
    "%matplotlib inline\n",
    "from matplotlib import rcParams\n",
    "rcParams['font.family'] = 'serif'\n",
    "rcParams['font.size'] = 16"
   ]
  },
  {
   "cell_type": "code",
   "execution_count": 2,
   "metadata": {
    "collapsed": true
   },
   "outputs": [],
   "source": [
    "# parameters \n",
    "\n",
    "g = 9.8 # gravity m/s**2\n",
    "m_s = 50 # kg mass of rocket shell\n",
    "ro_air = 1.091  # kg/m**3 denisty of air ***constant at all throughout flight\n",
    "A = 3.14*.5**2 # m**2 cross sectional area of rocket\n",
    "v_e = 325 # m/s exhaust speed\n",
    "C_D = 0.15 # drag coeffiecnt \n",
    "m_p0 = 100 #kg mass of propellent at t = 0  \n",
    "mass_flow_p = 20 #kg/s \n",
    "dt = .1 #s time step for euler's method\n",
    "T = 100.0 \n",
    "N = int(T/dt)+1\n",
    "t = numpy.linspace(0.0,T,N) # time linearization"
   ]
  },
  {
   "cell_type": "code",
   "execution_count": 3,
   "metadata": {
    "collapsed": true
   },
   "outputs": [],
   "source": [
    "#Intial conditions \n",
    "\n",
    "v0 = 0 # intial velocity \n",
    "t0 = 0 # intial time\n",
    "z0 = 0 # intial altitude \n",
    "u = numpy.array([z0,v0,t0])\n",
    "z = numpy.zeros(N)\n",
    "v = numpy.zeros(N)\n",
    "z[0] = z0"
   ]
  },
  {
   "cell_type": "code",
   "execution_count": 4,
   "metadata": {
    "collapsed": true
   },
   "outputs": [],
   "source": [
    "# define functions for mass propellent and mass flow rate of propellent\n",
    "\n",
    "def m_p(t):\n",
    "\n",
    "    \"\"\"\n",
    "    Parameters\n",
    "    -------------\n",
    "\n",
    "    t : float\n",
    "        given time\n",
    "\n",
    "    Returns\n",
    "    -------------\n",
    "\n",
    "    mp : float \n",
    "        total mass of mass propelent at time t \n",
    "\n",
    "    \"\"\"\n",
    "\n",
    "    if t<=5:\n",
    "        m_p = 100-20*t\n",
    "    else: \n",
    "        m_p = 0 \n",
    "    \n",
    "    return m_p \n",
    "\n",
    "\n",
    "def mfr(t):\n",
    "\n",
    "    \"\"\"\n",
    "    \n",
    "    Parameters\n",
    "    ----------\n",
    "    \n",
    "    t  : float\n",
    "        given time \n",
    "    \n",
    "    Returns\n",
    "    ----------\n",
    "    \n",
    "    mfr : float\n",
    "        mass flow rate at time t\n",
    "    \"\"\"\n",
    "    \n",
    "    if t<= 5:\n",
    "        mfr = 20\n",
    "    else: \n",
    "        mfr = 0\n",
    "    return     mfr \n"
   ]
  },
  {
   "cell_type": "code",
   "execution_count": 16,
   "metadata": {
    "collapsed": true
   },
   "outputs": [],
   "source": [
    "# Define euler step and RHS of equation\n",
    "\n",
    "def f(u):\n",
    "    \"\"\"Returns the RHS\n",
    "    Parameters \n",
    "    ---------\n",
    "    u: array of float\n",
    "        array containing the solution at time n. \n",
    "        \n",
    "    Returns\n",
    "    ---------\n",
    "    dudt : array of float\n",
    "        array containing the RHS given u\n",
    "        \n",
    "    \"\"\"\n",
    "    return numpy.array([u[1], -g + mfr(u[2])*v_e -0.50*ro_air*u[1]*numpy.abs(u[1])*A*C_D/(m_s+m_p(u[2])),1])\n",
    "\n",
    "\n",
    "def euler_step(u,f,dt):\n",
    "    \n",
    "    \"\"\"Returns the solution at the next time step using euler's method\n",
    "    \n",
    "    Parameters\n",
    "    ----------\n",
    "    \n",
    "    u : array of float\n",
    "        solution at the previous time step\n",
    "    f : function \n",
    "        function to compute the RHS of the system of equations \n",
    "    dt : float \n",
    "        time step interval\n",
    "        \n",
    "    Returns\n",
    "    --------\n",
    "    \n",
    "    u_n_plus1_1 : array of float\n",
    "        approximate solution at the next time step\n",
    "\n",
    "    \n",
    "    \"\"\"\n",
    "    return u + dt * f(u)\n",
    "\n"
   ]
  },
  {
   "cell_type": "code",
   "execution_count": 17,
   "metadata": {
    "collapsed": false
   },
   "outputs": [
    {
     "ename": "IndexError",
     "evalue": "invalid index to scalar variable.",
     "output_type": "error",
     "traceback": [
      "\u001b[0;31m---------------------------------------------------------------------------\u001b[0m",
      "\u001b[0;31mIndexError\u001b[0m                                Traceback (most recent call last)",
      "\u001b[0;32m<ipython-input-17-579c65235664>\u001b[0m in \u001b[0;36m<module>\u001b[0;34m()\u001b[0m\n\u001b[1;32m      2\u001b[0m \u001b[0mtt\u001b[0m \u001b[0;34m=\u001b[0m \u001b[0;36m0\u001b[0m\u001b[0;34m\u001b[0m\u001b[0m\n\u001b[1;32m      3\u001b[0m \u001b[0;32mfor\u001b[0m \u001b[0mn\u001b[0m \u001b[0;32min\u001b[0m \u001b[0mrange\u001b[0m\u001b[0;34m(\u001b[0m\u001b[0;36m1\u001b[0m\u001b[0;34m,\u001b[0m\u001b[0mN\u001b[0m\u001b[0;34m)\u001b[0m\u001b[0;34m:\u001b[0m\u001b[0;34m\u001b[0m\u001b[0m\n\u001b[0;32m----> 4\u001b[0;31m     \u001b[0mu\u001b[0m\u001b[0;34m[\u001b[0m\u001b[0mn\u001b[0m\u001b[0;34m+\u001b[0m\u001b[0;36m1\u001b[0m\u001b[0;34m]\u001b[0m \u001b[0;34m=\u001b[0m \u001b[0meuler_step\u001b[0m\u001b[0;34m(\u001b[0m\u001b[0mu\u001b[0m\u001b[0;34m[\u001b[0m\u001b[0mn\u001b[0m\u001b[0;34m]\u001b[0m\u001b[0;34m,\u001b[0m \u001b[0mf\u001b[0m\u001b[0;34m,\u001b[0m \u001b[0mdt\u001b[0m\u001b[0;34m)\u001b[0m\u001b[0;34m\u001b[0m\u001b[0m\n\u001b[0m\u001b[1;32m      5\u001b[0m     \u001b[0mz\u001b[0m\u001b[0;34m[\u001b[0m\u001b[0mn\u001b[0m\u001b[0;34m]\u001b[0m \u001b[0;34m=\u001b[0m \u001b[0mu\u001b[0m\u001b[0;34m[\u001b[0m\u001b[0;36m0\u001b[0m\u001b[0;34m]\u001b[0m\u001b[0;34m\u001b[0m\u001b[0m\n\u001b[1;32m      6\u001b[0m     \u001b[0mv\u001b[0m\u001b[0;34m[\u001b[0m\u001b[0mn\u001b[0m\u001b[0;34m]\u001b[0m \u001b[0;34m=\u001b[0m \u001b[0mu\u001b[0m\u001b[0;34m[\u001b[0m\u001b[0;36m1\u001b[0m\u001b[0;34m]\u001b[0m\u001b[0;34m\u001b[0m\u001b[0m\n",
      "\u001b[0;32m<ipython-input-16-3cf4df821237>\u001b[0m in \u001b[0;36meuler_step\u001b[0;34m(u, f, dt)\u001b[0m\n\u001b[1;32m     39\u001b[0m \u001b[0;34m\u001b[0m\u001b[0m\n\u001b[1;32m     40\u001b[0m     \"\"\"\n\u001b[0;32m---> 41\u001b[0;31m     \u001b[0;32mreturn\u001b[0m \u001b[0mu\u001b[0m \u001b[0;34m+\u001b[0m \u001b[0mdt\u001b[0m \u001b[0;34m*\u001b[0m \u001b[0mf\u001b[0m\u001b[0;34m(\u001b[0m\u001b[0mu\u001b[0m\u001b[0;34m)\u001b[0m\u001b[0;34m\u001b[0m\u001b[0m\n\u001b[0m\u001b[1;32m     42\u001b[0m \u001b[0;34m\u001b[0m\u001b[0m\n",
      "\u001b[0;32m<ipython-input-16-3cf4df821237>\u001b[0m in \u001b[0;36mf\u001b[0;34m(u)\u001b[0m\n\u001b[1;32m     14\u001b[0m \u001b[0;34m\u001b[0m\u001b[0m\n\u001b[1;32m     15\u001b[0m     \"\"\"\n\u001b[0;32m---> 16\u001b[0;31m     \u001b[0;32mreturn\u001b[0m \u001b[0mnumpy\u001b[0m\u001b[0;34m.\u001b[0m\u001b[0marray\u001b[0m\u001b[0;34m(\u001b[0m\u001b[0;34m[\u001b[0m\u001b[0mu\u001b[0m\u001b[0;34m[\u001b[0m\u001b[0;36m1\u001b[0m\u001b[0;34m]\u001b[0m\u001b[0;34m,\u001b[0m \u001b[0;34m-\u001b[0m\u001b[0mg\u001b[0m \u001b[0;34m+\u001b[0m \u001b[0mmfr\u001b[0m\u001b[0;34m(\u001b[0m\u001b[0mu\u001b[0m\u001b[0;34m[\u001b[0m\u001b[0;36m2\u001b[0m\u001b[0;34m]\u001b[0m\u001b[0;34m)\u001b[0m\u001b[0;34m*\u001b[0m\u001b[0mv_e\u001b[0m \u001b[0;34m-\u001b[0m\u001b[0;36m0.50\u001b[0m\u001b[0;34m*\u001b[0m\u001b[0mro_air\u001b[0m\u001b[0;34m*\u001b[0m\u001b[0mu\u001b[0m\u001b[0;34m[\u001b[0m\u001b[0;36m1\u001b[0m\u001b[0;34m]\u001b[0m\u001b[0;34m*\u001b[0m\u001b[0mnumpy\u001b[0m\u001b[0;34m.\u001b[0m\u001b[0mabs\u001b[0m\u001b[0;34m(\u001b[0m\u001b[0mu\u001b[0m\u001b[0;34m[\u001b[0m\u001b[0;36m1\u001b[0m\u001b[0;34m]\u001b[0m\u001b[0;34m)\u001b[0m\u001b[0;34m*\u001b[0m\u001b[0mA\u001b[0m\u001b[0;34m*\u001b[0m\u001b[0mC_D\u001b[0m\u001b[0;34m/\u001b[0m\u001b[0;34m(\u001b[0m\u001b[0mm_s\u001b[0m\u001b[0;34m+\u001b[0m\u001b[0mm_p\u001b[0m\u001b[0;34m(\u001b[0m\u001b[0mu\u001b[0m\u001b[0;34m[\u001b[0m\u001b[0;36m2\u001b[0m\u001b[0;34m]\u001b[0m\u001b[0;34m)\u001b[0m\u001b[0;34m)\u001b[0m\u001b[0;34m,\u001b[0m\u001b[0;36m1\u001b[0m\u001b[0;34m]\u001b[0m\u001b[0;34m)\u001b[0m\u001b[0;34m\u001b[0m\u001b[0m\n\u001b[0m\u001b[1;32m     17\u001b[0m \u001b[0;34m\u001b[0m\u001b[0m\n\u001b[1;32m     18\u001b[0m \u001b[0;34m\u001b[0m\u001b[0m\n",
      "\u001b[0;31mIndexError\u001b[0m: invalid index to scalar variable."
     ]
    }
   ],
   "source": [
    "#### Euler Method \n",
    "tt = 0\n",
    "for n in range(1,N):\n",
    "    u[n+1] = euler_step(u[n], f, dt)\n",
    "    z[n] = u[0]\n",
    "    v[n] = u[1]\n",
    "    ttt[n] = tt\n",
    "    tt = tt+dt\n",
    "    if z[n] < 0: \n",
    "        break "
   ]
  },
  {
   "cell_type": "code",
   "execution_count": null,
   "metadata": {
    "collapsed": true
   },
   "outputs": [],
   "source": []
  }
 ],
 "metadata": {
  "anaconda-cloud": {},
  "kernelspec": {
   "display_name": "Python [default]",
   "language": "python",
   "name": "python3"
  },
  "language_info": {
   "codemirror_mode": {
    "name": "ipython",
    "version": 3
   },
   "file_extension": ".py",
   "mimetype": "text/x-python",
   "name": "python",
   "nbconvert_exporter": "python",
   "pygments_lexer": "ipython3",
   "version": "3.5.2"
  }
 },
 "nbformat": 4,
 "nbformat_minor": 1
}
