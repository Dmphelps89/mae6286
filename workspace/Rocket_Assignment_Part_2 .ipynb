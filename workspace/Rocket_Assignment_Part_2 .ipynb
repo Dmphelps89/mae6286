{
 "cells": [
  {
   "cell_type": "code",
   "execution_count": 1,
   "metadata": {
    "collapsed": true
   },
   "outputs": [],
   "source": [
    "### Load needed modules\n",
    "import numpy\n",
    "from matplotlib import pyplot\n",
    "%matplotlib inline\n",
    "from matplotlib import rcParams\n",
    "rcParams['font.family'] = 'serif'\n",
    "rcParams['font.size'] = 16"
   ]
  },
  {
   "cell_type": "code",
   "execution_count": 2,
   "metadata": {
    "collapsed": true
   },
   "outputs": [],
   "source": [
    "# parameters \n",
    "\n",
    "g = 9.8 # gravity m/s**2\n",
    "m_s = 50 # kg mass of rocket shell\n",
    "ro_air = 1.091  # kg/m**3 denisty of air ***constant at all throughout flight\n",
    "A = 3.14*.5**2 # m**2 cross sectional area of rocket\n",
    "v_e = 325 # m/s exhaust speed\n",
    "C_D = 0.15 # drag coeffiecnt \n",
    "m_p0 = 100 #kg mass of propellent at t = 0  \n",
    "mass_flow_p = 20 #kg/s \n",
    "dt = .1 #s time step for euler's method\n",
    "T = 100.0 \n",
    "N = int(T/dt)+1\n",
    "t = numpy.linspace(0.0,T,N) # time linearization"
   ]
  },
  {
   "cell_type": "code",
   "execution_count": 3,
   "metadata": {
    "collapsed": true
   },
   "outputs": [],
   "source": [
    "#Intial conditions \n",
    "\n",
    "v0 = 0 # intial velocity \n",
    "t0 = 0 # intial time\n",
    "z0 = 0 # intial altitude \n",
    "u = numpy.array([z0,v0])\n",
    "z = numpy.zeros(N)\n",
    "v = numpy.zeros(N)\n",
    "z[0] = z0"
   ]
  },
  {
   "cell_type": "code",
   "execution_count": 4,
   "metadata": {
    "collapsed": true
   },
   "outputs": [],
   "source": [
    "# define functions for mass propellent and mass flow rate of propellent\n",
    "\n",
    "def m_p(t):\n",
    "\n",
    "    \"\"\"\n",
    "    Parameters\n",
    "    -------------\n",
    "\n",
    "    t : float\n",
    "        given time\n",
    "\n",
    "    Returns\n",
    "    -------------\n",
    "\n",
    "    mp : float \n",
    "        total mass of mass propelent at time t \n",
    "\n",
    "    \"\"\"\n",
    "\n",
    "    if t<=5:\n",
    "        m_p = 100-20*t\n",
    "    else: \n",
    "        m_p = 0 \n",
    "    \n",
    "    return m_p \n",
    "\n",
    "\n",
    "def mfr(t):\n",
    "\n",
    "    \"\"\"\n",
    "    \n",
    "    Parameters\n",
    "    ----------\n",
    "    \n",
    "    t  : float\n",
    "        given time \n",
    "    \n",
    "    Returns\n",
    "    ----------\n",
    "    \n",
    "    mfr : float\n",
    "        mass flow rate at time t\n",
    "    \"\"\"\n",
    "    \n",
    "    if t<= 5:\n",
    "        mfr = 20\n",
    "    else: \n",
    "        mfr = 0\n",
    "    return     mfr \n"
   ]
  },
  {
   "cell_type": "code",
   "execution_count": null,
   "metadata": {
    "collapsed": true
   },
   "outputs": [],
   "source": [
    "# Define euler step and RHS of equation\n",
    "\n",
    "def f(u):\n",
    "    \"\"\"Returns the RHS\n",
    "    Parameters \n",
    "    ---------\n",
    "    u: array of float\n",
    "        array containing the solution at time n. \n",
    "        \n",
    "    Returns\n",
    "    ---------\n",
    "    dudt : array of float\n",
    "        array containing the RHS given u\n",
    "        \n",
    "    \"\"\"\n",
    "    return numpy.array([-g + mfr(u)*v_e -0.50*ro_air*u])\n",
    "\n",
    "\n",
    "def euler_step(u,f,dt):\n",
    "    \n",
    "    \"\"\"Returns the solution at the next time step using euler's method\n",
    "    \n",
    "    Parameters\n",
    "    ----------\n",
    "    \n",
    "    u : array of float\n",
    "        solution at the previous time step\n",
    "    f : function \n",
    "        function to compute the RHS of the system of equations \n",
    "    dt : float \n",
    "        time step interval\n",
    "        \n",
    "    Returns\n",
    "    --------\n",
    "    \n",
    "    u_n_plus1_1 : array of float\n",
    "        approximate solution at the next time step\n",
    "\n",
    "    \n",
    "    \"\"\"\n",
    "    return u + dt * f(u)\n",
    "\n"
   ]
  }
 ],
 "metadata": {
  "kernelspec": {
   "display_name": "Python [default]",
   "language": "python",
   "name": "python3"
  },
  "language_info": {
   "codemirror_mode": {
    "name": "ipython",
    "version": 3
   },
   "file_extension": ".py",
   "mimetype": "text/x-python",
   "name": "python",
   "nbconvert_exporter": "python",
   "pygments_lexer": "ipython3",
   "version": "3.5.2"
  }
 },
 "nbformat": 4,
 "nbformat_minor": 1
}
