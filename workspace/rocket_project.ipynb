{
 "cells": [
  {
   "cell_type": "code",
   "execution_count": 1,
   "metadata": {
    "collapsed": true
   },
   "outputs": [],
   "source": [
    "### Load needed modules\n",
    "import numpy\n",
    "from matplotlib import pyplot\n",
    "%matplotlib inline\n",
    "from matplotlib import rcParams\n",
    "rcParams['font.family'] = 'serif'\n",
    "rcParams['font.size'] = 16"
   ]
  },
  {
   "cell_type": "code",
   "execution_count": null,
   "metadata": {
    "collapsed": true
   },
   "outputs": [],
   "source": [
    "# parameters \n",
    "\n",
    "g = 9.8 # gravity m/s**2\n",
    "m_s = 50 # kg mass of rocket shell\n",
    "ro_air = # kg/m**3 denisty of air ***constant at all throughout flight\n",
    "A = 3.14*.5**2 # m**2 cross sectional area of rocket\n",
    "v_e = 325 # m/s exhaust speed\n",
    "C_D = 0.15 # drag coeffiecnt \n",
    "m_p0 = 100 #kg mass of propellent at t = 0  \n",
    "mass_flow_p = 20 #kg/s \n",
    "dt = .1 #s time step for euler's method\n",
    "T = 100.0 \n",
    "N = int(T/dt)+1\n",
    "t = numpy.linspace(0.0,T,N) # time linearization"
   ]
  },
  {
   "cell_type": "code",
   "execution_count": null,
   "metadata": {
    "collapsed": true
   },
   "outputs": [],
   "source": [
    "#Intial conditions \n",
    "\n",
    "v0 = 0 # intial velocity \n",
    "t0 = 0 # intial time\n",
    "z0 = 0 # intial altitude \n"
   ]
  },
  {
   "cell_type": "code",
   "execution_count": null,
   "metadata": {
    "collapsed": true
   },
   "outputs": [],
   "source": [
    "# define functions for mass propellent and mass flow rate of propellent\n",
    "\n",
    "def mp(t):\n",
    "\n",
    "    \"\"\"\n",
    "    Parameters\n",
    "    -------------\n",
    "\n",
    "    t : array of float\n",
    "        given time\n",
    "\n",
    "    Returns\n",
    "    -------------\n",
    "\n",
    "    mp : float \n",
    "        total mass of mass propelent at time t \n",
    "\n",
    "    \"\"\"\n",
    "\n",
    "        if t<=5:\n",
    "            mp = 100-20t\n",
    "        else\n",
    "            mp = 0 \n",
    "    \n",
    "    return mp \n",
    "\n",
    "\n",
    "def mfr(t):\n",
    "\n",
    "    \"\"\"\n",
    "    \n",
    "    Parameters\n",
    "    ----------\n",
    "    \n",
    "    t  : array of float\n",
    "        given time \n",
    "    \n",
    "    Returns\n",
    "    ----------\n",
    "    \n",
    "    mfr : float\n",
    "        mass flow rate at time t\n",
    "    \"\"\"\n",
    "    \n",
    "    if t<= 5 "
   ]
  }
 ],
 "metadata": {
  "anaconda-cloud": {},
  "kernelspec": {
   "display_name": "Python [conda root]",
   "language": "python",
   "name": "conda-root-py"
  },
  "language_info": {
   "codemirror_mode": {
    "name": "ipython",
    "version": 3
   },
   "file_extension": ".py",
   "mimetype": "text/x-python",
   "name": "python",
   "nbconvert_exporter": "python",
   "pygments_lexer": "ipython3",
   "version": "3.5.2"
  }
 },
 "nbformat": 4,
 "nbformat_minor": 1
}
