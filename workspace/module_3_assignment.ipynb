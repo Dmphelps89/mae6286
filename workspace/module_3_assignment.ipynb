{
 "cells": [
  {
   "cell_type": "markdown",
   "metadata": {},
   "source": [
    "First Problem: calculatiing constants"
   ]
  },
  {
   "cell_type": "markdown",
   "metadata": {},
   "source": [
    "Import and define syms"
   ]
  },
  {
   "cell_type": "code",
   "execution_count": 2,
   "metadata": {
    "collapsed": true
   },
   "outputs": [],
   "source": [
    "import sympy\n",
    "sympy.init_printing()\n",
    "\n",
    "u_max, u_star, rho_max, rho_star, A, B = sympy.symbols('u_max u_star rho_max rho_star A B')"
   ]
  },
  {
   "cell_type": "markdown",
   "metadata": {},
   "source": [
    "Set up Equations"
   ]
  },
  {
   "cell_type": "code",
   "execution_count": 9,
   "metadata": {
    "collapsed": false
   },
   "outputs": [],
   "source": [
    "eq1 = sympy.Eq( 0, u_max*rho_max*(1 - A*rho_max-B*rho_max**2) )\n",
    "eq2 = sympy.Eq( 0, u_max*(1 - 2*A*rho_star-3*B*rho_star**2) )\n",
    "eq3 = sympy.Eq( u_star, u_max*(1 - A*rho_star - B*rho_star**2) )\n",
    "eq4 = sympy.Eq(eq2.lhs - 3*eq3.lhs, eq2.rhs - 3*eq3.rhs)\n",
    "rho_sol = sympy.solve(eq4,rho_star)[0]\n",
    "B_sol = sympy.solve(eq1,B)[0]\n",
    "quadA = eq2.subs([(rho_star, rho_sol), (B,B_sol)])\n",
    "A_sol = sympy.solve(quadA, A)"
   ]
  },
  {
   "cell_type": "markdown",
   "metadata": {},
   "source": [
    "Solve, A_sol[0] was a negative take A_sol[1]"
   ]
  },
  {
   "cell_type": "code",
   "execution_count": 14,
   "metadata": {
    "collapsed": false
   },
   "outputs": [
    {
     "data": {
      "image/png": "[encoded data removed]",
      "text/latex": [
       "$$0.0197690110272418$$"
      ],
      "text/plain": [
       "0.0197690110272418"
      ]
     },
     "execution_count": 14,
     "metadata": {},
     "output_type": "execute_result"
    }
   ],
   "source": [
    "aval = A_sol[1].evalf(subs={u_star: 1.5, u_max:2.0, rho_max:15.0} )\n",
    "aval"
   ]
  },
  {
   "cell_type": "markdown",
   "metadata": {},
   "source": [
    "Solve B"
   ]
  },
  {
   "cell_type": "code",
   "execution_count": 13,
   "metadata": {
    "collapsed": false
   },
   "outputs": [
    {
     "data": {
      "image/png": "[encoded data removed]",
      "text/latex": [
       "$$0.00312651037596166$$"
      ],
      "text/plain": [
       "0.00312651037596166"
      ]
     },
     "execution_count": 13,
     "metadata": {},
     "output_type": "execute_result"
    }
   ],
   "source": [
    "bval = B_sol.evalf(subs={rho_max:15.0, A:aval} )\n",
    "bval"
   ]
  },
  {
   "cell_type": "markdown",
   "metadata": {},
   "source": [
    "Sod's Shock Tube "
   ]
  },
  {
   "cell_type": "markdown",
   "metadata": {},
   "source": [
    "import"
   ]
  },
  {
   "cell_type": "code",
   "execution_count": 66,
   "metadata": {
    "collapsed": true
   },
   "outputs": [],
   "source": [
    "%matplotlib inline\n",
    "import numpy \n",
    "from matplotlib import pyplot\n",
    "from matplotlib import rcParams\n",
    "rcParams['font.family'] = 'serif'\n",
    "rcParams['font.size'] = 16"
   ]
  },
  {
   "cell_type": "markdown",
   "metadata": {},
   "source": [
    "Parameters"
   ]
  },
  {
   "cell_type": "code",
   "execution_count": 67,
   "metadata": {
    "collapsed": true
   },
   "outputs": [],
   "source": [
    "nx = 81\n",
    "dx = .25\n",
    "dt = .0002   \n",
    "gamma = 1.4\n",
    "t=0"
   ]
  },
  {
   "cell_type": "code",
   "execution_count": 68,
   "metadata": {
    "collapsed": false
   },
   "outputs": [],
   "source": [
    "x = numpy.linspace(-10,10,nx)"
   ]
  },
  {
   "cell_type": "code",
   "execution_count": 69,
   "metadata": {
    "collapsed": false
   },
   "outputs": [],
   "source": [
    "u = numpy.empty((nx,3))\n",
    "f = numpy.empty((nx,3))"
   ]
  },
  {
   "cell_type": "markdown",
   "metadata": {},
   "source": [
    "Initial Conditions"
   ]
  },
  {
   "cell_type": "code",
   "execution_count": 70,
   "metadata": {
    "collapsed": false
   },
   "outputs": [],
   "source": [
    "u[0:40,0] = 1.\n",
    "u[40:81,0] = .125\n",
    "u[:,1] = 0.\n",
    "u[0:40,2] = 100\n",
    "u[40:81,2] = 10"
   ]
  },
  {
   "cell_type": "markdown",
   "metadata": {},
   "source": [
    "Sanity Checks"
   ]
  },
  {
   "cell_type": "code",
   "execution_count": 42,
   "metadata": {
    "collapsed": false
   },
   "outputs": [
    {
     "data": {
      "image/png": "[encoded data removed]",
      "text/plain": [
       "<matplotlib.figure.Figure at 0x7f284a0447f0>"
      ]
     },
     "metadata": {},
     "output_type": "display_data"
    }
   ],
   "source": [
    "pyplot.plot(x, u[:,0], color='#003366', ls='-', lw=3)\n",
    "pyplot.ylim(-1,2);"
   ]
  },
  {
   "cell_type": "code",
   "execution_count": 44,
   "metadata": {
    "collapsed": false
   },
   "outputs": [
    {
     "data": {
      "image/png": "[encoded data removed]",
      "text/plain": [
       "<matplotlib.figure.Figure at 0x7f284a0956a0>"
      ]
     },
     "metadata": {},
     "output_type": "display_data"
    }
   ],
   "source": [
    "pyplot.plot(x, u[:,2], color='#003366', ls='-', lw=3)\n",
    "pyplot.ylim(0,150);"
   ]
  },
  {
   "cell_type": "markdown",
   "metadata": {},
   "source": [
    "Define Function for Flux "
   ]
  },
  {
   "cell_type": "code",
   "execution_count": 75,
   "metadata": {
    "collapsed": false
   },
   "outputs": [],
   "source": [
    "def flux(u,f,gamma):\n",
    "    f[:,0] = u[:,1]\n",
    "    f[:,1] = u[:,1]**2/u[:,0] + (gamma-1)*(u[:,2] -0.5*u[:,1]**2/u[:,0])\n",
    "    f[:,2] = (u[:,2] + (gamma-1) *(u[:,2]-0.5*(u[:,1]**2/u[:,0]) ))*u[:,1]/u[:,0]\n",
    "    return f"
   ]
  },
  {
   "cell_type": "code",
   "execution_count": 79,
   "metadata": {
    "collapsed": false
   },
   "outputs": [
    {
     "data": {
      "text/plain": [
       "array([  2.08470802e-316,   1.13635099e-322,   6.90758795e-310,\n",
       "         2.08472857e-316,   0.00000000e+000,   0.00000000e+000,\n",
       "         8.16968380e-312,   4.94065646e-324,   0.00000000e+000,\n",
       "         6.90758202e-310,   1.69759663e-313,   6.90758202e-310,\n",
       "         6.90752070e-310,   0.00000000e+000,   6.90758202e-310,\n",
       "         1.69759663e-313,   6.90758783e-310,   0.00000000e+000,\n",
       "         0.00000000e+000,   0.00000000e+000,   6.90755436e-310,\n",
       "         6.90758202e-310,   0.00000000e+000,   0.00000000e+000,\n",
       "         0.00000000e+000,   2.37645576e-321,   6.90758763e-310,\n",
       "         6.90755435e-310,   6.90755435e-310,   0.00000000e+000,\n",
       "         0.00000000e+000,   0.00000000e+000,   6.90758206e-310,\n",
       "         0.00000000e+000,   6.90755435e-310,   6.90755435e-310,\n",
       "         6.90756569e-310,   0.00000000e+000,   0.00000000e+000,\n",
       "         0.00000000e+000,   6.90755435e-310,   6.90755435e-310,\n",
       "         6.90755435e-310,   2.42092166e-322,   0.00000000e+000,\n",
       "         5.77068674e-321,               nan,   4.59481051e-322,\n",
       "         6.90758795e-310,   2.08478311e-316,   0.00000000e+000,\n",
       "         0.00000000e+000,   2.14533774e-311,   1.67637667e-311,\n",
       "         0.00000000e+000,   1.42137880e-076,   9.89803615e+164,\n",
       "         9.45956265e-076,   1.69724950e+137,   2.95164082e-075,\n",
       "         9.16281387e-072,   1.61410559e+132,   6.90758783e-310,\n",
       "         0.00000000e+000,   0.00000000e+000,   0.00000000e+000,\n",
       "         0.00000000e+000,   0.00000000e+000,   0.00000000e+000,\n",
       "         6.90758784e-310,   6.90758389e-310,   6.90757994e-310,\n",
       "         1.61410559e+132,   1.11416848e+218,   1.92078601e+136,\n",
       "         2.95150427e-075,   9.16281386e-072,   1.61410559e+132,\n",
       "         9.02193423e+217,   2.13412571e+257,   1.42137876e-076])"
      ]
     },
     "execution_count": 79,
     "metadata": {},
     "output_type": "execute_result"
    }
   ],
   "source": [
    "def richtmyer(u,f)"
   ]
  },
  {
   "cell_type": "code",
   "execution_count": null,
   "metadata": {
    "collapsed": false
   },
   "outputs": [],
   "source": []
  },
  {
   "cell_type": "code",
   "execution_count": null,
   "metadata": {
    "collapsed": true
   },
   "outputs": [],
   "source": []
  }
 ],
 "metadata": {
  "kernelspec": {
   "display_name": "Python [default]",
   "language": "python",
   "name": "python3"
  },
  "language_info": {
   "codemirror_mode": {
    "name": "ipython",
    "version": 3
   },
   "file_extension": ".py",
   "mimetype": "text/x-python",
   "name": "python",
   "nbconvert_exporter": "python",
   "pygments_lexer": "ipython3",
   "version": "3.5.2"
  }
 },
 "nbformat": 4,
 "nbformat_minor": 1
}
