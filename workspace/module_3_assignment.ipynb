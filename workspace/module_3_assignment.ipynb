{
 "cells": [
  {
   "cell_type": "markdown",
   "metadata": {},
   "source": [
    "First Problem: calculatiing constants"
   ]
  },
  {
   "cell_type": "markdown",
   "metadata": {},
   "source": [
    "Import and define syms"
   ]
  },
  {
   "cell_type": "code",
   "execution_count": 2,
   "metadata": {
    "collapsed": true
   },
   "outputs": [],
   "source": [
    "import sympy\n",
    "sympy.init_printing()\n",
    "\n",
    "u_max, u_star, rho_max, rho_star, A, B = sympy.symbols('u_max u_star rho_max rho_star A B')"
   ]
  },
  {
   "cell_type": "markdown",
   "metadata": {},
   "source": [
    "Set up Equations"
   ]
  },
  {
   "cell_type": "code",
   "execution_count": 9,
   "metadata": {
    "collapsed": false
   },
   "outputs": [],
   "source": [
    "eq1 = sympy.Eq( 0, u_max*rho_max*(1 - A*rho_max-B*rho_max**2) )\n",
    "eq2 = sympy.Eq( 0, u_max*(1 - 2*A*rho_star-3*B*rho_star**2) )\n",
    "eq3 = sympy.Eq( u_star, u_max*(1 - A*rho_star - B*rho_star**2) )\n",
    "eq4 = sympy.Eq(eq2.lhs - 3*eq3.lhs, eq2.rhs - 3*eq3.rhs)\n",
    "rho_sol = sympy.solve(eq4,rho_star)[0]\n",
    "B_sol = sympy.solve(eq1,B)[0]\n",
    "quadA = eq2.subs([(rho_star, rho_sol), (B,B_sol)])\n",
    "A_sol = sympy.solve(quadA, A)"
   ]
  },
  {
   "cell_type": "markdown",
   "metadata": {},
   "source": [
    "Solve, A_sol[0] was a negative take A_sol[1]"
   ]
  },
  {
   "cell_type": "code",
   "execution_count": 14,
   "metadata": {
    "collapsed": false
   },
   "outputs": [
    {
     "data": {
      "image/png": "[encoded data removed]",
      "text/latex": [
       "$$0.0197690110272418$$"
      ],
      "text/plain": [
       "0.0197690110272418"
      ]
     },
     "execution_count": 14,
     "metadata": {},
     "output_type": "execute_result"
    }
   ],
   "source": [
    "aval = A_sol[1].evalf(subs={u_star: 1.5, u_max:2.0, rho_max:15.0} )\n",
    "aval"
   ]
  },
  {
   "cell_type": "markdown",
   "metadata": {},
   "source": [
    "Solve B"
   ]
  },
  {
   "cell_type": "code",
   "execution_count": 13,
   "metadata": {
    "collapsed": false
   },
   "outputs": [
    {
     "data": {
      "image/png": "[encoded data removed]",
      "text/latex": [
       "$$0.00312651037596166$$"
      ],
      "text/plain": [
       "0.00312651037596166"
      ]
     },
     "execution_count": 13,
     "metadata": {},
     "output_type": "execute_result"
    }
   ],
   "source": [
    "bval = B_sol.evalf(subs={rho_max:15.0, A:aval} )\n",
    "bval"
   ]
  },
  {
   "cell_type": "markdown",
   "metadata": {},
   "source": [
    "Sod's Shock Tube "
   ]
  },
  {
   "cell_type": "markdown",
   "metadata": {},
   "source": [
    "import"
   ]
  },
  {
   "cell_type": "code",
   "execution_count": 66,
   "metadata": {
    "collapsed": true
   },
   "outputs": [],
   "source": [
    "%matplotlib inline\n",
    "import numpy \n",
    "from matplotlib import pyplot\n",
    "from matplotlib import rcParams\n",
    "rcParams['font.family'] = 'serif'\n",
    "rcParams['font.size'] = 16"
   ]
  },
  {
   "cell_type": "markdown",
   "metadata": {},
   "source": [
    "Parameters"
   ]
  },
  {
   "cell_type": "code",
   "execution_count": 113,
   "metadata": {
    "collapsed": true
   },
   "outputs": [],
   "source": [
    "nx = 81\n",
    "dx = .25\n",
    "dt = .0002   \n",
    "gamma = 1.4\n",
    "t0=0\n",
    "tmax = .01\n",
    "\n",
    "nt = int(tmax/dt)"
   ]
  },
  {
   "cell_type": "code",
   "execution_count": 68,
   "metadata": {
    "collapsed": false
   },
   "outputs": [],
   "source": [
    "x = numpy.linspace(-10,10,nx)"
   ]
  },
  {
   "cell_type": "code",
   "execution_count": 69,
   "metadata": {
    "collapsed": false
   },
   "outputs": [],
   "source": [
    "u = numpy.empty((nx,3))\n",
    "f = numpy.empty((nx,3))"
   ]
  },
  {
   "cell_type": "markdown",
   "metadata": {},
   "source": [
    "Initial Conditions"
   ]
  },
  {
   "cell_type": "code",
   "execution_count": 70,
   "metadata": {
    "collapsed": false
   },
   "outputs": [],
   "source": [
    "u[0:40,0] = 1.\n",
    "u[40:81,0] = .125\n",
    "u[:,1] = 0.\n",
    "u[0:40,2] = 100\n",
    "u[40:81,2] = 10"
   ]
  },
  {
   "cell_type": "markdown",
   "metadata": {},
   "source": [
    "Sanity Checks"
   ]
  },
  {
   "cell_type": "code",
   "execution_count": 42,
   "metadata": {
    "collapsed": false
   },
   "outputs": [
    {
     "data": {
      "image/png": "[encoded data removed]",
      "text/plain": [
       "<matplotlib.figure.Figure at 0x7f284a0447f0>"
      ]
     },
     "metadata": {},
     "output_type": "display_data"
    }
   ],
   "source": [
    "pyplot.plot(x, u[:,0], color='#003366', ls='-', lw=3)\n",
    "pyplot.ylim(-1,2);"
   ]
  },
  {
   "cell_type": "code",
   "execution_count": 44,
   "metadata": {
    "collapsed": false
   },
   "outputs": [
    {
     "data": {
      "image/png": "[encoded data removed]",
      "text/plain": [
       "<matplotlib.figure.Figure at 0x7f284a0956a0>"
      ]
     },
     "metadata": {},
     "output_type": "display_data"
    }
   ],
   "source": [
    "pyplot.plot(x, u[:,2], color='#003366', ls='-', lw=3)\n",
    "pyplot.ylim(0,150);"
   ]
  },
  {
   "cell_type": "markdown",
   "metadata": {},
   "source": [
    "Define Function for Flux "
   ]
  },
  {
   "cell_type": "code",
   "execution_count": 103,
   "metadata": {
    "collapsed": false
   },
   "outputs": [],
   "source": [
    "def flux(u,f,gamma):\n",
    "    f[:,0] = u[:,1]\n",
    "    f[:,1] = u[:,1]**2/u[:,0] + (gamma-1)*(u[:,2] - 0.5*u[:,1]**2/u[:,0])\n",
    "    f[:,2] = (u[:,2] + (gamma-1) *(u[:,2] - 0.5 * (u[:,1]**2 /u[:,0] ) ))* u[:,1]/u[:,0]\n",
    "    return f"
   ]
  },
  {
   "cell_type": "code",
   "execution_count": null,
   "metadata": {
    "collapsed": true
   },
   "outputs": [],
   "source": [
    "Sanity Checks"
   ]
  },
  {
   "cell_type": "code",
   "execution_count": 104,
   "metadata": {
    "collapsed": true
   },
   "outputs": [],
   "source": [
    "ftest = flux(u,f,gamma)"
   ]
  },
  {
   "cell_type": "code",
   "execution_count": 105,
   "metadata": {
    "collapsed": false
   },
   "outputs": [
    {
     "data": {
      "image/png": "[encoded data removed]",
      "text/plain": [
       "<matplotlib.figure.Figure at 0x7f281f666630>"
      ]
     },
     "metadata": {},
     "output_type": "display_data"
    }
   ],
   "source": [
    "pyplot.plot(x, ftest[:,0], color='#003366', ls='-', lw=3)\n",
    "pyplot.ylim(-10,10);"
   ]
  },
  {
   "cell_type": "code",
   "execution_count": 109,
   "metadata": {
    "collapsed": false
   },
   "outputs": [
    {
     "data": {
      "image/png": "[encoded data removed]",
      "text/plain": [
       "<matplotlib.figure.Figure at 0x7f2836451198>"
      ]
     },
     "metadata": {},
     "output_type": "display_data"
    }
   ],
   "source": [
    "pyplot.plot(x, ftest[:,1], color='#003366', ls='-', lw=3)\n",
    "pyplot.ylim(-10,50);"
   ]
  },
  {
   "cell_type": "code",
   "execution_count": 111,
   "metadata": {
    "collapsed": false
   },
   "outputs": [
    {
     "data": {
      "image/png": "[encoded data removed]",
      "text/plain": [
       "<matplotlib.figure.Figure at 0x7f281f68a7f0>"
      ]
     },
     "metadata": {},
     "output_type": "display_data"
    }
   ],
   "source": [
    "pyplot.plot(x, ftest[:,2], color='#003366', ls='-', lw=3)\n",
    "pyplot.ylim(-10,10);"
   ]
  },
  {
   "cell_type": "markdown",
   "metadata": {},
   "source": [
    "Define Richtmyer method\n"
   ]
  },
  {
   "cell_type": "code",
   "execution_count": 173,
   "metadata": {
    "collapsed": false
   },
   "outputs": [],
   "source": [
    "def richtmyer(u,f,dt,nt,dx,gamma):\n",
    "    \n",
    "    u_n = numpy.zeros((len(u),3))\n",
    "    u_star = numpy.empty_like(u)\n",
    "    u_n[:,:] = u.copy()\n",
    "    u_star[:,:] = u.copy()\n",
    "    t = 0\n",
    "    \n",
    "    for i in range(1,nt+1):\n",
    "        t = t + dt\n",
    "        f = flux(u, f, gamma)\n",
    "        u_star[:-1,:] = 0.5*(u[1:,:] + u[:-1,:]) - dt/(2*dx) * (f[1:,:] - f[:-1,:])\n",
    "        fstar = flux(u_star, f, gamma)\n",
    "        u_n[:-1,:] = u[:-1,:] - dt/dx * (fstar[1:,:] - fstar[:-1,:])\n",
    "        f = flux(u_n, f, gamma)\n",
    "    u = u_n.copy()\n",
    "    f = f.copy()    \n",
    "    return u"
   ]
  },
  {
   "cell_type": "code",
   "execution_count": 174,
   "metadata": {
    "collapsed": false
   },
   "outputs": [
    {
     "data": {
      "text/plain": [
       "array([[  1.00000000e+00,   0.00000000e+00,   1.00000000e+02],\n",
       "       [  1.00000000e+00,   0.00000000e+00,   1.00000000e+02],\n",
       "       [  1.00000000e+00,   0.00000000e+00,   1.00000000e+02],\n",
       "       [  1.00000000e+00,   0.00000000e+00,   1.00000000e+02],\n",
       "       [  1.00000000e+00,   0.00000000e+00,   1.00000000e+02],\n",
       "       [  1.00000000e+00,   0.00000000e+00,   1.00000000e+02],\n",
       "       [  1.00000000e+00,   0.00000000e+00,   1.00000000e+02],\n",
       "       [  1.00000000e+00,   0.00000000e+00,   1.00000000e+02],\n",
       "       [  1.00000000e+00,   0.00000000e+00,   1.00000000e+02],\n",
       "       [  1.00000000e+00,   0.00000000e+00,   1.00000000e+02],\n",
       "       [  1.00000000e+00,   0.00000000e+00,   1.00000000e+02],\n",
       "       [  1.00000000e+00,   0.00000000e+00,   1.00000000e+02],\n",
       "       [  1.00000000e+00,   0.00000000e+00,   1.00000000e+02],\n",
       "       [  1.00000000e+00,   0.00000000e+00,   1.00000000e+02],\n",
       "       [  1.00000000e+00,   0.00000000e+00,   1.00000000e+02],\n",
       "       [  1.00000000e+00,   0.00000000e+00,   1.00000000e+02],\n",
       "       [  1.00000000e+00,   0.00000000e+00,   1.00000000e+02],\n",
       "       [  1.00000000e+00,   0.00000000e+00,   1.00000000e+02],\n",
       "       [  1.00000000e+00,   0.00000000e+00,   1.00000000e+02],\n",
       "       [  1.00000000e+00,   0.00000000e+00,   1.00000000e+02],\n",
       "       [  1.00000000e+00,   0.00000000e+00,   1.00000000e+02],\n",
       "       [  1.00000000e+00,   0.00000000e+00,   1.00000000e+02],\n",
       "       [  1.00000000e+00,   0.00000000e+00,   1.00000000e+02],\n",
       "       [  1.00000000e+00,   0.00000000e+00,   1.00000000e+02],\n",
       "       [  1.00000000e+00,   0.00000000e+00,   1.00000000e+02],\n",
       "       [  1.00000000e+00,   0.00000000e+00,   1.00000000e+02],\n",
       "       [  1.00000000e+00,   0.00000000e+00,   1.00000000e+02],\n",
       "       [  1.00000000e+00,   0.00000000e+00,   1.00000000e+02],\n",
       "       [  1.00000000e+00,   0.00000000e+00,   1.00000000e+02],\n",
       "       [  1.00000000e+00,   0.00000000e+00,   1.00000000e+02],\n",
       "       [  1.00000000e+00,   0.00000000e+00,   1.00000000e+02],\n",
       "       [  1.00000000e+00,   0.00000000e+00,   1.00000000e+02],\n",
       "       [  1.00000000e+00,   0.00000000e+00,   1.00000000e+02],\n",
       "       [  1.00000000e+00,   0.00000000e+00,   1.00000000e+02],\n",
       "       [  1.00000000e+00,   0.00000000e+00,   1.00000000e+02],\n",
       "       [  1.00000000e+00,   0.00000000e+00,   1.00000000e+02],\n",
       "       [  1.00000000e+00,   0.00000000e+00,   1.00000000e+02],\n",
       "       [  1.00000000e+00,   0.00000000e+00,   1.00000000e+02],\n",
       "       [  9.99988480e-01,   1.43997641e-02,   9.99984230e+01],\n",
       "       [  1.00001152e+00,   1.44002359e-02,   1.00001577e+02],\n",
       "       [  1.25000000e-01,   0.00000000e+00,   1.00000000e+01],\n",
       "       [  1.25000000e-01,   0.00000000e+00,   1.00000000e+01],\n",
       "       [  1.25000000e-01,   0.00000000e+00,   1.00000000e+01],\n",
       "       [  1.25000000e-01,   0.00000000e+00,   1.00000000e+01],\n",
       "       [  1.25000000e-01,   0.00000000e+00,   1.00000000e+01],\n",
       "       [  1.25000000e-01,   0.00000000e+00,   1.00000000e+01],\n",
       "       [  1.25000000e-01,   0.00000000e+00,   1.00000000e+01],\n",
       "       [  1.25000000e-01,   0.00000000e+00,   1.00000000e+01],\n",
       "       [  1.25000000e-01,   0.00000000e+00,   1.00000000e+01],\n",
       "       [  1.25000000e-01,   0.00000000e+00,   1.00000000e+01],\n",
       "       [  1.25000000e-01,   0.00000000e+00,   1.00000000e+01],\n",
       "       [  1.25000000e-01,   0.00000000e+00,   1.00000000e+01],\n",
       "       [  1.25000000e-01,   0.00000000e+00,   1.00000000e+01],\n",
       "       [  1.25000000e-01,   0.00000000e+00,   1.00000000e+01],\n",
       "       [  1.25000000e-01,   0.00000000e+00,   1.00000000e+01],\n",
       "       [  1.25000000e-01,   0.00000000e+00,   1.00000000e+01],\n",
       "       [  1.25000000e-01,   0.00000000e+00,   1.00000000e+01],\n",
       "       [  1.25000000e-01,   0.00000000e+00,   1.00000000e+01],\n",
       "       [  1.25000000e-01,   0.00000000e+00,   1.00000000e+01],\n",
       "       [  1.25000000e-01,   0.00000000e+00,   1.00000000e+01],\n",
       "       [  1.25000000e-01,   0.00000000e+00,   1.00000000e+01],\n",
       "       [  1.25000000e-01,   0.00000000e+00,   1.00000000e+01],\n",
       "       [  1.25000000e-01,   0.00000000e+00,   1.00000000e+01],\n",
       "       [  1.25000000e-01,   0.00000000e+00,   1.00000000e+01],\n",
       "       [  1.25000000e-01,   0.00000000e+00,   1.00000000e+01],\n",
       "       [  1.25000000e-01,   0.00000000e+00,   1.00000000e+01],\n",
       "       [  1.25000000e-01,   0.00000000e+00,   1.00000000e+01],\n",
       "       [  1.25000000e-01,   0.00000000e+00,   1.00000000e+01],\n",
       "       [  1.25000000e-01,   0.00000000e+00,   1.00000000e+01],\n",
       "       [  1.25000000e-01,   0.00000000e+00,   1.00000000e+01],\n",
       "       [  1.25000000e-01,   0.00000000e+00,   1.00000000e+01],\n",
       "       [  1.25000000e-01,   0.00000000e+00,   1.00000000e+01],\n",
       "       [  1.25000000e-01,   0.00000000e+00,   1.00000000e+01],\n",
       "       [  1.25000000e-01,   0.00000000e+00,   1.00000000e+01],\n",
       "       [  1.25000000e-01,   0.00000000e+00,   1.00000000e+01],\n",
       "       [  1.25000000e-01,   0.00000000e+00,   1.00000000e+01],\n",
       "       [  1.25000000e-01,   0.00000000e+00,   1.00000000e+01],\n",
       "       [  1.25000000e-01,   0.00000000e+00,   1.00000000e+01],\n",
       "       [  1.25000000e-01,   0.00000000e+00,   1.00000000e+01],\n",
       "       [  1.25000000e-01,   0.00000000e+00,   1.00000000e+01],\n",
       "       [  1.25000000e-01,   0.00000000e+00,   1.00000000e+01]])"
      ]
     },
     "execution_count": 174,
     "metadata": {},
     "output_type": "execute_result"
    }
   ],
   "source": [
    "richtmyer(u,f,dt,nt,dx,gamma)"
   ]
  },
  {
   "cell_type": "code",
   "execution_count": 158,
   "metadata": {
    "collapsed": false
   },
   "outputs": [
    {
     "data": {
      "image/png": "[encoded data removed]",
      "text/latex": [
       "$$0.01$$"
      ],
      "text/plain": [
       "0.01"
      ]
     },
     "execution_count": 158,
     "metadata": {},
     "output_type": "execute_result"
    }
   ],
   "source": []
  },
  {
   "cell_type": "code",
   "execution_count": 131,
   "metadata": {
    "collapsed": true
   },
   "outputs": [],
   "source": [
    "u_star = numpy.empty_like(u)"
   ]
  },
  {
   "cell_type": "code",
   "execution_count": 133,
   "metadata": {
    "collapsed": false
   },
   "outputs": [
    {
     "data": {
      "image/png": "[encoded data removed]",
      "text/latex": [
       "$$\\left ( 81, \\quad 3\\right )$$"
      ],
      "text/plain": [
       "(81, 3)"
      ]
     },
     "execution_count": 133,
     "metadata": {},
     "output_type": "execute_result"
    }
   ],
   "source": [
    "numpy.shape(u_star)"
   ]
  },
  {
   "cell_type": "code",
   "execution_count": null,
   "metadata": {
    "collapsed": true
   },
   "outputs": [],
   "source": []
  }
 ],
 "metadata": {
  "anaconda-cloud": {},
  "kernelspec": {
   "display_name": "Python [default]",
   "language": "python",
   "name": "python3"
  },
  "language_info": {
   "codemirror_mode": {
    "name": "ipython",
    "version": 3
   },
   "file_extension": ".py",
   "mimetype": "text/x-python",
   "name": "python",
   "nbconvert_exporter": "python",
   "pygments_lexer": "ipython3",
   "version": "3.5.2"
  }
 },
 "nbformat": 4,
 "nbformat_minor": 1
}
