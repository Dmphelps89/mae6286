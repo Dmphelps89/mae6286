{
 "cells": [
  {
   "cell_type": "markdown",
   "metadata": {},
   "source": [
    "First Problem: calculatiing constants"
   ]
  },
  {
   "cell_type": "markdown",
   "metadata": {},
   "source": [
    "Import and define syms"
   ]
  },
  {
   "cell_type": "code",
   "execution_count": 1,
   "metadata": {
    "collapsed": true
   },
   "outputs": [],
   "source": [
    "import sympy\n",
    "sympy.init_printing()\n",
    "\n",
    "u_max, u_star, rho_max, rho_star, A, B = sympy.symbols('u_max u_star rho_max rho_star A B')"
   ]
  },
  {
   "cell_type": "markdown",
   "metadata": {},
   "source": [
    "Set up Equations"
   ]
  },
  {
   "cell_type": "code",
   "execution_count": 2,
   "metadata": {
    "collapsed": false
   },
   "outputs": [],
   "source": [
    "eq1 = sympy.Eq( 0, u_max*rho_max*(1 - A*rho_max-B*rho_max**2) )\n",
    "eq2 = sympy.Eq( 0, u_max*(1 - 2*A*rho_star-3*B*rho_star**2) )\n",
    "eq3 = sympy.Eq( u_star, u_max*(1 - A*rho_star - B*rho_star**2) )\n",
    "eq4 = sympy.Eq(eq2.lhs - 3*eq3.lhs, eq2.rhs - 3*eq3.rhs)\n",
    "rho_sol = sympy.solve(eq4,rho_star)[0]\n",
    "B_sol = sympy.solve(eq1,B)[0]\n",
    "quadA = eq2.subs([(rho_star, rho_sol), (B,B_sol)])\n",
    "A_sol = sympy.solve(quadA, A)"
   ]
  },
  {
   "cell_type": "markdown",
   "metadata": {},
   "source": [
    "Solve, A_sol[0] was a negative take A_sol[1]"
   ]
  },
  {
   "cell_type": "code",
   "execution_count": 3,
   "metadata": {
    "collapsed": false
   },
   "outputs": [
    {
     "data": {
      "image/png": "[encoded data removed]",
      "text/latex": [
       "$$0.0197690110272418$$"
      ],
      "text/plain": [
       "0.0197690110272418"
      ]
     },
     "execution_count": 3,
     "metadata": {},
     "output_type": "execute_result"
    }
   ],
   "source": [
    "aval = A_sol[1].evalf(subs={u_star: 1.5, u_max:2.0, rho_max:15.0} )\n",
    "aval"
   ]
  },
  {
   "cell_type": "markdown",
   "metadata": {},
   "source": [
    "Solve B"
   ]
  },
  {
   "cell_type": "code",
   "execution_count": 4,
   "metadata": {
    "collapsed": false
   },
   "outputs": [
    {
     "data": {
      "image/png": "[encoded data removed]",
      "text/latex": [
       "$$0.00312651037596166$$"
      ],
      "text/plain": [
       "0.00312651037596166"
      ]
     },
     "execution_count": 4,
     "metadata": {},
     "output_type": "execute_result"
    }
   ],
   "source": [
    "bval = B_sol.evalf(subs={rho_max:15.0, A:aval} )\n",
    "bval"
   ]
  },
  {
   "cell_type": "markdown",
   "metadata": {},
   "source": [
    "Sod's Shock Tube "
   ]
  },
  {
   "cell_type": "markdown",
   "metadata": {},
   "source": [
    "import"
   ]
  },
  {
   "cell_type": "code",
   "execution_count": 5,
   "metadata": {
    "collapsed": true
   },
   "outputs": [],
   "source": [
    "%matplotlib inline\n",
    "import numpy \n",
    "from matplotlib import pyplot\n",
    "from matplotlib import rcParams\n",
    "rcParams['font.family'] = 'serif'\n",
    "rcParams['font.size'] = 16"
   ]
  },
  {
   "cell_type": "markdown",
   "metadata": {},
   "source": [
    "Parameters"
   ]
  },
  {
   "cell_type": "code",
   "execution_count": 6,
   "metadata": {
    "collapsed": true
   },
   "outputs": [],
   "source": [
    "nx = 81\n",
    "dx = .25\n",
    "dt = .0002   \n",
    "gamma = 1.4\n",
    "t0=0\n",
    "tmax = .01\n",
    "\n",
    "nt = int(tmax/dt)"
   ]
  },
  {
   "cell_type": "code",
   "execution_count": 7,
   "metadata": {
    "collapsed": false
   },
   "outputs": [],
   "source": [
    "x = numpy.linspace(-10,10,nx)"
   ]
  },
  {
   "cell_type": "code",
   "execution_count": 8,
   "metadata": {
    "collapsed": false
   },
   "outputs": [],
   "source": [
    "u = numpy.empty((nx,3))\n",
    "f = numpy.empty((nx,3))"
   ]
  },
  {
   "cell_type": "markdown",
   "metadata": {},
   "source": [
    "Initial Conditions"
   ]
  },
  {
   "cell_type": "code",
   "execution_count": 91,
   "metadata": {
    "collapsed": false
   },
   "outputs": [],
   "source": [
    "u[0:40,0] = 1.\n",
    "u[40:81,0] = .125\n",
    "u[:,1] = 0.\n",
    "u[0:40,2] = 100\n",
    "u[40:81,2] = 10"
   ]
  },
  {
   "cell_type": "markdown",
   "metadata": {},
   "source": [
    "Sanity Checks"
   ]
  },
  {
   "cell_type": "code",
   "execution_count": 10,
   "metadata": {
    "collapsed": false
   },
   "outputs": [
    {
     "data": {
      "image/png": "[encoded data removed]",
      "text/plain": [
       "<matplotlib.figure.Figure at 0x7ff23c028470>"
      ]
     },
     "metadata": {},
     "output_type": "display_data"
    }
   ],
   "source": [
    "pyplot.plot(x, u[:,0], color='#003366', ls='-', lw=3)\n",
    "pyplot.ylim(-1,2);"
   ]
  },
  {
   "cell_type": "code",
   "execution_count": 11,
   "metadata": {
    "collapsed": false
   },
   "outputs": [
    {
     "data": {
      "image/png": "[encoded data removed]",
      "text/plain": [
       "<matplotlib.figure.Figure at 0x7ff25d3402b0>"
      ]
     },
     "metadata": {},
     "output_type": "display_data"
    }
   ],
   "source": [
    "pyplot.plot(x, u[:,2], color='#003366', ls='-', lw=3)\n",
    "pyplot.ylim(0,150);"
   ]
  },
  {
   "cell_type": "markdown",
   "metadata": {},
   "source": [
    "Define Function for Flux "
   ]
  },
  {
   "cell_type": "code",
   "execution_count": 92,
   "metadata": {
    "collapsed": false
   },
   "outputs": [],
   "source": [
    "def flux(u,f,gamma):\n",
    "    f[:,0] = u[:,1]\n",
    "    f[:,1] = u[:,1]**2/u[:,0] + (gamma-1)*(u[:,2] - 0.5*u[:,1]**2/u[:,0])\n",
    "    f[:,2] = (u[:,2] + (gamma-1) *(u[:,2] - 0.5 * (u[:,1]**2 /u[:,0] ) ))* u[:,1]/u[:,0]\n",
    "    return f"
   ]
  },
  {
   "cell_type": "markdown",
   "metadata": {
    "collapsed": true
   },
   "source": [
    "Sanity Checks"
   ]
  },
  {
   "cell_type": "code",
   "execution_count": 13,
   "metadata": {
    "collapsed": true
   },
   "outputs": [],
   "source": [
    "ftest = flux(u,f,gamma)"
   ]
  },
  {
   "cell_type": "code",
   "execution_count": 14,
   "metadata": {
    "collapsed": false
   },
   "outputs": [
    {
     "data": {
      "image/png": "[encoded data removed]",
      "text/plain": [
       "<matplotlib.figure.Figure at 0x7ff23c00fbe0>"
      ]
     },
     "metadata": {},
     "output_type": "display_data"
    }
   ],
   "source": [
    "pyplot.plot(x, ftest[:,0], color='#003366', ls='-', lw=3)\n",
    "pyplot.ylim(-10,10);"
   ]
  },
  {
   "cell_type": "code",
   "execution_count": 15,
   "metadata": {
    "collapsed": false
   },
   "outputs": [
    {
     "data": {
      "image/png": "[encoded data removed]",
      "text/plain": [
       "<matplotlib.figure.Figure at 0x7ff237d38668>"
      ]
     },
     "metadata": {},
     "output_type": "display_data"
    }
   ],
   "source": [
    "pyplot.plot(x, ftest[:,1], color='#003366', ls='-', lw=3)\n",
    "pyplot.ylim(-10,50);"
   ]
  },
  {
   "cell_type": "code",
   "execution_count": 16,
   "metadata": {
    "collapsed": false
   },
   "outputs": [
    {
     "data": {
      "image/png": "[encoded data removed]",
      "text/plain": [
       "<matplotlib.figure.Figure at 0x7ff25d294940>"
      ]
     },
     "metadata": {},
     "output_type": "display_data"
    }
   ],
   "source": [
    "pyplot.plot(x, ftest[:,2], color='#003366', ls='-', lw=3)\n",
    "pyplot.ylim(-10,10);"
   ]
  },
  {
   "cell_type": "markdown",
   "metadata": {},
   "source": [
    "Define Richtmyer method\n"
   ]
  },
  {
   "cell_type": "code",
   "execution_count": 93,
   "metadata": {
    "collapsed": false
   },
   "outputs": [],
   "source": [
    "def richtmyer(u,f,dt,nt,dx,gamma):\n",
    "    \n",
    "    u_n = numpy.zeros((len(u),3))\n",
    "    u_star = numpy.empty_like(u)\n",
    "    u_n[:,:] = u.copy()\n",
    "    u_star[:,:] = u.copy()\n",
    "    t = 0\n",
    "    \n",
    "    for i in range(1,nt+1):\n",
    "        \n",
    "        t = t + dt\n",
    "        f = flux(u, f, gamma)\n",
    "        u_star[2:-1,:] = 0.5*(u[3:,:] + u[2:-1,:]) - dt/(2*dx) * (f[3:,:] - f[2:-1,:])\n",
    "        fstar = flux(u_star, f, gamma)\n",
    "        u_n[2:-1,:] = u[2:-1,:] - dt/dx * (fstar[2:-1,:] - fstar[1:-2,:])\n",
    "        f = flux(u_n, f, gamma)\n",
    "        u = u_n.copy()\n",
    "        i = i + dt    \n",
    "    \n",
    "    return u"
   ]
  },
  {
   "cell_type": "code",
   "execution_count": 94,
   "metadata": {
    "collapsed": false
   },
   "outputs": [],
   "source": [
    "for i in range(1,51):\n",
    "    u = richtmyer(u,f,dt,nt,dx,gamma)"
   ]
  },
  {
   "cell_type": "code",
   "execution_count": 95,
   "metadata": {
    "collapsed": false
   },
   "outputs": [
    {
     "data": {
      "image/png": "[encoded data removed]",
      "text/plain": [
       "<matplotlib.figure.Figure at 0x7ff23360a320>"
      ]
     },
     "metadata": {},
     "output_type": "display_data"
    }
   ],
   "source": [
    "pyplot.plot(x, u[:,0], color='#003366', ls='-', lw=3)\n",
    "pyplot.ylim(-1,2);"
   ]
  },
  {
   "cell_type": "code",
   "execution_count": 96,
   "metadata": {
    "collapsed": false
   },
   "outputs": [
    {
     "data": {
      "image/png": "[encoded data removed]",
      "text/plain": [
       "<matplotlib.figure.Figure at 0x7ff237d3d550>"
      ]
     },
     "metadata": {},
     "output_type": "display_data"
    }
   ],
   "source": [
    "pyplot.plot(x, u[:,1], color='#003366', ls='-', lw=3)\n",
    "pyplot.ylim(0,10);"
   ]
  },
  {
   "cell_type": "code",
   "execution_count": 97,
   "metadata": {
    "collapsed": false
   },
   "outputs": [
    {
     "data": {
      "image/png": "[encoded data removed]",
      "text/plain": [
       "<matplotlib.figure.Figure at 0x7ff23357b978>"
      ]
     },
     "metadata": {},
     "output_type": "display_data"
    }
   ],
   "source": [
    "pyplot.plot(x, u[:,2], color='#003366', ls='-', lw=3)\n",
    "pyplot.ylim(-100,200);"
   ]
  },
  {
   "cell_type": "code",
   "execution_count": 56,
   "metadata": {
    "collapsed": false
   },
   "outputs": [
    {
     "data": {
      "text/plain": [
       "array([[  1.00000000e+00,   0.00000000e+00,   1.00000000e+02],\n",
       "       [  1.00000000e+00,   0.00000000e+00,   1.00000000e+02],\n",
       "       [  1.00000000e+00,   0.00000000e+00,   1.00000000e+02],\n",
       "       [  1.00000000e+00,   0.00000000e+00,   1.00000000e+02],\n",
       "       [  1.00000000e+00,   0.00000000e+00,   1.00000000e+02],\n",
       "       [  1.00000000e+00,   0.00000000e+00,   1.00000000e+02],\n",
       "       [  1.00000000e+00,   0.00000000e+00,   1.00000000e+02],\n",
       "       [  1.00000000e+00,   0.00000000e+00,   1.00000000e+02],\n",
       "       [  1.00000000e+00,   0.00000000e+00,   1.00000000e+02],\n",
       "       [  1.00000000e+00,   0.00000000e+00,   1.00000000e+02],\n",
       "       [  1.00000000e+00,   0.00000000e+00,   1.00000000e+02],\n",
       "       [  1.00000000e+00,   0.00000000e+00,   1.00000000e+02],\n",
       "       [  1.00000000e+00,   0.00000000e+00,   1.00000000e+02],\n",
       "       [  1.00000000e+00,   0.00000000e+00,   1.00000000e+02],\n",
       "       [  1.00000000e+00,   0.00000000e+00,   1.00000000e+02],\n",
       "       [  1.00000000e+00,   0.00000000e+00,   1.00000000e+02],\n",
       "       [  1.00000000e+00,   0.00000000e+00,   1.00000000e+02],\n",
       "       [  1.00000000e+00,   5.12841325e-14,   1.00000000e+02],\n",
       "       [  1.00000000e+00,   9.01991370e-14,   1.00000000e+02],\n",
       "       [  1.00000000e+00,   4.95484755e-12,   1.00000000e+02],\n",
       "       [  1.00000000e+00,   7.40106998e-12,   1.00000000e+02],\n",
       "       [  1.00000000e+00,   3.68725881e-10,   1.00000000e+02],\n",
       "       [  1.00000000e+00,   4.77864438e-10,   9.99999999e+01],\n",
       "       [  1.00000000e+00,   2.20468154e-08,   9.99999999e+01],\n",
       "       [  9.99999979e-01,   2.46890084e-08,   9.99999971e+01],\n",
       "       [  9.99999978e-01,   1.03170479e-06,   9.99999970e+01],\n",
       "       [  9.99999149e-01,   9.94607306e-07,   9.99998808e+01],\n",
       "       [  9.99999239e-01,   3.64914933e-05,   9.99998935e+01],\n",
       "       [  9.99974256e-01,   3.02050413e-05,   9.99963959e+01],\n",
       "       [  9.99980263e-01,   9.30275346e-04,   9.99972372e+01],\n",
       "       [  9.99455994e-01,   6.59958015e-04,   9.99238464e+01],\n",
       "       [  9.99640685e-01,   1.59534915e-02,   9.99498050e+01],\n",
       "       [  9.92619394e-01,   9.76506594e-03,   9.89680018e+01],\n",
       "       [  9.95523699e-01,   1.65167091e-01,   9.93850400e+01],\n",
       "       [  9.43706688e-01,   9.63331503e-02,   9.21976932e+01],\n",
       "       [  9.58735413e-01,   8.62393740e-01,   9.46193592e+01],\n",
       "       [  7.97666694e-01,   6.74850136e-01,   7.31066171e+01],\n",
       "       [  7.74444347e-01,   1.84585698e+00,   7.19128742e+01],\n",
       "       [  5.93817491e-01,   2.06563355e+00,   5.24723169e+01],\n",
       "       [  5.14044989e-01,   2.59464354e+00,   4.63675627e+01],\n",
       "       [  2.49585945e-01,   2.67514659e+00,   2.24624174e+01],\n",
       "       [  4.45858971e-01,   2.32043692e+00,   3.38812354e+01],\n",
       "       [  3.72759862e-01,   2.12088178e+00,   3.21013964e+01],\n",
       "       [  3.68694345e-01,   2.31166046e+00,   4.16666504e+01],\n",
       "       [  3.44320784e-01,   2.47048815e+00,   4.64229389e+01],\n",
       "       [  2.88807824e-01,   1.79169425e+00,   3.82953094e+01],\n",
       "       [  2.04070926e-01,   7.76521663e-01,   2.22998810e+01],\n",
       "       [  1.50038308e-01,   1.96605069e-01,   1.32507795e+01],\n",
       "       [  1.30168103e-01,   3.72346942e-02,   1.06005263e+01],\n",
       "       [  1.25923642e-01,   5.92062492e-03,   1.01040719e+01],\n",
       "       [  1.25136994e-01,   9.93039579e-04,   1.00153591e+01],\n",
       "       [  1.25022660e-01,   1.35860409e-04,   1.00025383e+01],\n",
       "       [  1.25002861e-01,   2.21234998e-05,   1.00003204e+01],\n",
       "       [  1.25000459e-01,   2.56627251e-06,   1.00000514e+01],\n",
       "       [  1.25000049e-01,   4.05047866e-07,   1.00000055e+01],\n",
       "       [  1.25000008e-01,   3.95469638e-08,   1.00000008e+01],\n",
       "       [  1.25000001e-01,   6.04001014e-09,   1.00000001e+01],\n",
       "       [  1.25000000e-01,   4.98892797e-10,   1.00000000e+01],\n",
       "       [  1.25000000e-01,   7.36754991e-11,   1.00000000e+01],\n",
       "       [  1.25000000e-01,   5.20210222e-12,   1.00000000e+01],\n",
       "       [  1.25000000e-01,   7.42075201e-13,   1.00000000e+01],\n",
       "       [  1.25000000e-01,   4.50349091e-14,   1.00000000e+01],\n",
       "       [  1.25000000e-01,   5.80229198e-15,   1.00000000e+01],\n",
       "       [  1.25000000e-01,   1.00186526e-16,   1.00000000e+01],\n",
       "       [  1.25000000e-01,   0.00000000e+00,   1.00000000e+01],\n",
       "       [  1.25000000e-01,   0.00000000e+00,   1.00000000e+01],\n",
       "       [  1.25000000e-01,   0.00000000e+00,   1.00000000e+01],\n",
       "       [  1.25000000e-01,   0.00000000e+00,   1.00000000e+01],\n",
       "       [  1.25000000e-01,   0.00000000e+00,   1.00000000e+01],\n",
       "       [  1.25000000e-01,   0.00000000e+00,   1.00000000e+01],\n",
       "       [  1.25000000e-01,   0.00000000e+00,   1.00000000e+01],\n",
       "       [  1.25000000e-01,   0.00000000e+00,   1.00000000e+01],\n",
       "       [  1.25000000e-01,   0.00000000e+00,   1.00000000e+01],\n",
       "       [  1.25000000e-01,   0.00000000e+00,   1.00000000e+01],\n",
       "       [  1.25000000e-01,   0.00000000e+00,   1.00000000e+01],\n",
       "       [  1.25000000e-01,   0.00000000e+00,   1.00000000e+01],\n",
       "       [  1.25000000e-01,   0.00000000e+00,   1.00000000e+01],\n",
       "       [  1.25000000e-01,   0.00000000e+00,   1.00000000e+01],\n",
       "       [  1.25000000e-01,   0.00000000e+00,   1.00000000e+01],\n",
       "       [  1.25000000e-01,   0.00000000e+00,   1.00000000e+01],\n",
       "       [  1.25000000e-01,   0.00000000e+00,   1.00000000e+01]])"
      ]
     },
     "execution_count": 56,
     "metadata": {},
     "output_type": "execute_result"
    }
   ],
   "source": [
    "u"
   ]
  },
  {
   "cell_type": "code",
   "execution_count": 87,
   "metadata": {
    "collapsed": false
   },
   "outputs": [
    {
     "data": {
      "image/png": "[encoded data removed]",
      "text/latex": [
       "$$2.5$$"
      ],
      "text/plain": [
       "2.5"
      ]
     },
     "execution_count": 87,
     "metadata": {},
     "output_type": "execute_result"
    }
   ],
   "source": [
    "x[50]"
   ]
  },
  {
   "cell_type": "code",
   "execution_count": 88,
   "metadata": {
    "collapsed": false
   },
   "outputs": [
    {
     "data": {
      "image/png": "[encoded data removed]",
      "text/latex": [
       "$$0.366607286787$$"
      ],
      "text/plain": [
       "0.366607286787"
      ]
     },
     "execution_count": 88,
     "metadata": {},
     "output_type": "execute_result"
    }
   ],
   "source": [
    "u[50,0]"
   ]
  },
  {
   "cell_type": "code",
   "execution_count": 89,
   "metadata": {
    "collapsed": false
   },
   "outputs": [
    {
     "data": {
      "image/png": "[encoded data removed]",
      "text/latex": [
       "$$2.01095768433$$"
      ],
      "text/plain": [
       "2.01095768433"
      ]
     },
     "execution_count": 89,
     "metadata": {},
     "output_type": "execute_result"
    }
   ],
   "source": [
    "u[50,1]"
   ]
  },
  {
   "cell_type": "code",
   "execution_count": 90,
   "metadata": {
    "collapsed": false
   },
   "outputs": [
    {
     "data": {
      "image/png": "[encoded data removed]",
      "text/latex": [
       "$$33.5108696274$$"
      ],
      "text/plain": [
       "33.5108696274"
      ]
     },
     "execution_count": 90,
     "metadata": {},
     "output_type": "execute_result"
    }
   ],
   "source": [
    "u[50,2]\n",
    "\n"
   ]
  },
  {
   "cell_type": "code",
   "execution_count": null,
   "metadata": {
    "collapsed": true
   },
   "outputs": [],
   "source": []
  }
 ],
 "metadata": {
  "anaconda-cloud": {},
  "kernelspec": {
   "display_name": "Python [default]",
   "language": "python",
   "name": "python3"
  },
  "language_info": {
   "codemirror_mode": {
    "name": "ipython",
    "version": 3
   },
   "file_extension": ".py",
   "mimetype": "text/x-python",
   "name": "python",
   "nbconvert_exporter": "python",
   "pygments_lexer": "ipython3",
   "version": "3.5.2"
  }
 },
 "nbformat": 4,
 "nbformat_minor": 1
}
